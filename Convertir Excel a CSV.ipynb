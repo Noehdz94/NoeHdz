{
 "cells": [
  {
   "cell_type": "code",
   "execution_count": 9,
   "id": "1baab516-02f0-49ff-892e-f3ba7701d8e0",
   "metadata": {
    "tags": []
   },
   "outputs": [],
   "source": [
    "import  jpype     \n",
    "import  asposecells  \n",
    "import pandas as pd"
   ]
  },
  {
   "cell_type": "code",
   "execution_count": 5,
   "id": "5f03b79a-7b3c-4654-9757-a05d1ac2ce6a",
   "metadata": {
    "tags": []
   },
   "outputs": [],
   "source": [
    "import pandas as pd\n",
    "\n",
    "read_file = pd.read_excel (r'C:\\Users\\Lab3\\Documents\\DataSet.xlsx')\n",
    "read_file.to_csv (r'C:\\Users\\Lab3\\Documents\\New_Products.csv', index = None, header=True)"
   ]
  },
  {
   "cell_type": "code",
   "execution_count": null,
   "id": "64411397-4b3c-4116-88b6-6e13e94d7d03",
   "metadata": {},
   "outputs": [],
   "source": []
  }
 ],
 "metadata": {
  "kernelspec": {
   "display_name": "Python 3 (ipykernel)",
   "language": "python",
   "name": "python3"
  },
  "language_info": {
   "codemirror_mode": {
    "name": "ipython",
    "version": 3
   },
   "file_extension": ".py",
   "mimetype": "text/x-python",
   "name": "python",
   "nbconvert_exporter": "python",
   "pygments_lexer": "ipython3",
   "version": "3.11.5"
  }
 },
 "nbformat": 4,
 "nbformat_minor": 5
}
